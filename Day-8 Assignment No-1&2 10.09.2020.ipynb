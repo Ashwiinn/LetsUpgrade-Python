{
 "cells": [
  {
   "cell_type": "markdown",
   "metadata": {},
   "source": [
    "# Assignment No - 1"
   ]
  },
  {
   "cell_type": "markdown",
   "metadata": {},
   "source": [
    "# Question !"
   ]
  },
  {
   "cell_type": "markdown",
   "metadata": {},
   "source": [
    "### Write a Decorator Function for your taking Input for you any king of Function you want to build."
   ]
  },
  {
   "cell_type": "markdown",
   "metadata": {},
   "source": [
    "# Answer !"
   ]
  },
  {
   "cell_type": "code",
   "execution_count": 13,
   "metadata": {},
   "outputs": [],
   "source": [
    "def fib(n):\n",
    "    if n < 2:\n",
    "        return n\n",
    "    else:\n",
    "        return fib(n-1) + fib(n-2)"
   ]
  },
  {
   "cell_type": "code",
   "execution_count": 17,
   "metadata": {},
   "outputs": [
    {
     "data": {
      "text/plain": [
       "17711"
      ]
     },
     "execution_count": 17,
     "metadata": {},
     "output_type": "execute_result"
    }
   ],
   "source": [
    "fib(22)"
   ]
  },
  {
   "cell_type": "code",
   "execution_count": 18,
   "metadata": {},
   "outputs": [
    {
     "data": {
      "text/plain": [
       "28657"
      ]
     },
     "execution_count": 18,
     "metadata": {},
     "output_type": "execute_result"
    }
   ],
   "source": [
    "fib(23)"
   ]
  },
  {
   "cell_type": "code",
   "execution_count": 19,
   "metadata": {},
   "outputs": [
    {
     "data": {
      "text/plain": [
       "46368"
      ]
     },
     "execution_count": 19,
     "metadata": {},
     "output_type": "execute_result"
    }
   ],
   "source": [
    "fib(24)"
   ]
  },
  {
   "cell_type": "markdown",
   "metadata": {},
   "source": [
    "# Assignment No - 2"
   ]
  },
  {
   "cell_type": "markdown",
   "metadata": {},
   "source": [
    "# Question !"
   ]
  },
  {
   "cell_type": "markdown",
   "metadata": {},
   "source": [
    "#### For this Challenge you need to Develop a Python program to open a file in read only mode and try writing something to it and handle the Subsequent errors"
   ]
  },
  {
   "cell_type": "markdown",
   "metadata": {},
   "source": [
    "# Answer !"
   ]
  },
  {
   "cell_type": "code",
   "execution_count": 21,
   "metadata": {},
   "outputs": [
    {
     "name": "stdout",
     "output_type": "stream",
     "text": [
      "Enter two numbers, separated by a comma : 2 3\n",
      "Comma is missing. Enter numbers separated by comma like this 1, 2\n",
      "This will execute no matter what\n"
     ]
    }
   ],
   "source": [
    "try:\n",
    "    num1, num2 = eval(input(\"Enter two numbers, separated by a comma : \"))\n",
    "    result = num1 / num2\n",
    "    print(\"Result is\", result)\n",
    "\n",
    "except ZeroDivisionError:\n",
    "    print(\"Division by zero is error !!\")\n",
    "\n",
    "except SyntaxError:\n",
    "    print(\"Comma is missing. Enter numbers separated by comma like this 1, 2\")\n",
    "\n",
    "except:\n",
    "    print(\"Wrong input\")\n",
    "\n",
    "else:\n",
    "    print(\"No exceptions\")\n",
    "\n",
    "finally:\n",
    "    print(\"This will execute no matter what\")"
   ]
  },
  {
   "cell_type": "code",
   "execution_count": 22,
   "metadata": {},
   "outputs": [
    {
     "name": "stdout",
     "output_type": "stream",
     "text": [
      "Enter two numbers, separated by a comma : 1,2\n",
      "Result is 0.5\n",
      "No exceptions\n",
      "This will execute no matter what\n"
     ]
    }
   ],
   "source": [
    "try:\n",
    "    num1, num2 = eval(input(\"Enter two numbers, separated by a comma : \"))\n",
    "    result = num1 / num2\n",
    "    print(\"Result is\", result)\n",
    "\n",
    "except ZeroDivisionError:\n",
    "    print(\"Division by zero is error !!\")\n",
    "\n",
    "except SyntaxError:\n",
    "    print(\"Comma is missing. Enter numbers separated by comma like this 1, 2\")\n",
    "\n",
    "except:\n",
    "    print(\"Wrong input\")\n",
    "\n",
    "else:\n",
    "    print(\"No exceptions\")\n",
    "\n",
    "finally:\n",
    "    print(\"This will execute no matter what\")"
   ]
  },
  {
   "cell_type": "markdown",
   "metadata": {},
   "source": [
    "# Thank You !"
   ]
  }
 ],
 "metadata": {
  "kernelspec": {
   "display_name": "Python 3",
   "language": "python",
   "name": "python3"
  },
  "language_info": {
   "codemirror_mode": {
    "name": "ipython",
    "version": 3
   },
   "file_extension": ".py",
   "mimetype": "text/x-python",
   "name": "python",
   "nbconvert_exporter": "python",
   "pygments_lexer": "ipython3",
   "version": "3.8.3"
  }
 },
 "nbformat": 4,
 "nbformat_minor": 4
}
