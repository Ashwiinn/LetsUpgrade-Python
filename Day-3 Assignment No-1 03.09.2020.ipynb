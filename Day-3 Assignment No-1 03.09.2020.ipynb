{
 "cells": [
  {
   "cell_type": "markdown",
   "metadata": {},
   "source": [
    "# Question !"
   ]
  },
  {
   "cell_type": "markdown",
   "metadata": {},
   "source": [
    "### You all are Pilots,You have to land a Plane,the Altitude required for Landing a Plane is 1000Ft.,if it is Less than that tell pilot to \"land the plane safely\",Or if it is more than 1000Ft. but Less than 5000Ft. ask the Pilot to \"Come Down to 1000Ft.\",else if it is More than 5000Ft. ask the \"Pilot to Go Around and Try Later\".\n",
    "\n"
   ]
  },
  {
   "cell_type": "markdown",
   "metadata": {},
   "source": [
    "# Answer !"
   ]
  },
  {
   "cell_type": "code",
   "execution_count": null,
   "metadata": {},
   "outputs": [],
   "source": [
    "PlaneLanding=\n",
    "\n",
    "if PlaneLanding < 1000:\n",
    "    print(\"Land the Plane Safely\")\n",
    "    \n",
    "elif PlaneLanding <= 5000:\n",
    "    print(\"Come Down To 1000Ft\")\n",
    "    \n",
    "else:\n",
    "    print(\"Go Around and Try Later\")\n"
   ]
  },
  {
   "cell_type": "code",
   "execution_count": 2,
   "metadata": {},
   "outputs": [
    {
     "name": "stdout",
     "output_type": "stream",
     "text": [
      "Land the Plane Safely\n"
     ]
    }
   ],
   "source": [
    "PlaneLanding=999\n",
    "\n",
    "if PlaneLanding < 1000:\n",
    "    print(\"Land the Plane Safely\")\n",
    "    \n",
    "elif PlaneLanding <= 5000:\n",
    "    print(\"Come Down To 1000Ft\")\n",
    "    \n",
    "else:\n",
    "    print(\"Go Around and Try Later\")"
   ]
  },
  {
   "cell_type": "code",
   "execution_count": 3,
   "metadata": {},
   "outputs": [
    {
     "name": "stdout",
     "output_type": "stream",
     "text": [
      "Come Down To 1000Ft\n"
     ]
    }
   ],
   "source": [
    "PlaneLanding=1500\n",
    "\n",
    "if PlaneLanding < 1000:\n",
    "    print(\"Land the Plane Safely\")\n",
    "    \n",
    "elif PlaneLanding <= 5000:\n",
    "    print(\"Come Down To 1000Ft\")\n",
    "    \n",
    "else:\n",
    "    print(\"Go Around and Try Later\")\n"
   ]
  },
  {
   "cell_type": "code",
   "execution_count": 4,
   "metadata": {},
   "outputs": [
    {
     "name": "stdout",
     "output_type": "stream",
     "text": [
      "Go Around and Try Later\n"
     ]
    }
   ],
   "source": [
    "PlaneLanding=8000\n",
    "\n",
    "if PlaneLanding < 1000:\n",
    "    print(\"Land the Plane Safely\")\n",
    "    \n",
    "elif PlaneLanding <= 5000:\n",
    "    print(\"Come Down To 1000Ft\")\n",
    "    \n",
    "else:\n",
    "    print(\"Go Around and Try Later\")\n"
   ]
  },
  {
   "cell_type": "markdown",
   "metadata": {},
   "source": [
    "# THANK YOU !"
   ]
  }
 ],
 "metadata": {
  "kernelspec": {
   "display_name": "Python 3",
   "language": "python",
   "name": "python3"
  },
  "language_info": {
   "codemirror_mode": {
    "name": "ipython",
    "version": 3
   },
   "file_extension": ".py",
   "mimetype": "text/x-python",
   "name": "python",
   "nbconvert_exporter": "python",
   "pygments_lexer": "ipython3",
   "version": "3.8.3"
  }
 },
 "nbformat": 4,
 "nbformat_minor": 4
}
