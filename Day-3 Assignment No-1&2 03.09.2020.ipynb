{
 "cells": [
  {
   "cell_type": "markdown",
   "metadata": {},
   "source": [
    "# Assignment No-1"
   ]
  },
  {
   "cell_type": "markdown",
   "metadata": {},
   "source": [
    "# Question !"
   ]
  },
  {
   "cell_type": "markdown",
   "metadata": {},
   "source": [
    "### You all are Pilots,You have to land a Plane,the Altitude required for Landing a Plane is 1000Ft.,if it is Less than that tell pilot to \"land the plane safely\",Or if it is more than 1000Ft. but Less than 5000Ft. ask the Pilot to \"Come Down to 1000Ft.\",else if it is More than 5000Ft. ask the \"Pilot to Go Around and Try Later\".\n"
   ]
  },
  {
   "cell_type": "markdown",
   "metadata": {},
   "source": [
    "# Answer !"
   ]
  },
  {
   "cell_type": "code",
   "execution_count": null,
   "metadata": {},
   "outputs": [],
   "source": [
    "PlaneLanding=\n",
    "\n",
    "if PlaneLanding < 1000:\n",
    "    print(\"Land the Plane Safely\")\n",
    "    \n",
    "elif PlaneLanding <= 5000:\n",
    "    print(\"Come Down To 1000Ft\")\n",
    "    \n",
    "else:\n",
    "    print(\"Go Around and Try Later\")\n"
   ]
  },
  {
   "cell_type": "code",
   "execution_count": 1,
   "metadata": {},
   "outputs": [
    {
     "name": "stdout",
     "output_type": "stream",
     "text": [
      "Land the Plane Safely\n"
     ]
    }
   ],
   "source": [
    "PlaneLanding=999\n",
    "\n",
    "if PlaneLanding < 1000:\n",
    "    print(\"Land the Plane Safely\")\n",
    "    \n",
    "elif PlaneLanding <= 5000:\n",
    "    print(\"Come Down To 1000Ft\")\n",
    "    \n",
    "else:\n",
    "    print(\"Go Around and Try Later\")"
   ]
  },
  {
   "cell_type": "code",
   "execution_count": 2,
   "metadata": {},
   "outputs": [
    {
     "name": "stdout",
     "output_type": "stream",
     "text": [
      "Come Down To 1000Ft\n"
     ]
    }
   ],
   "source": [
    "PlaneLanding=1500\n",
    "\n",
    "if PlaneLanding < 1000:\n",
    "    print(\"Land the Plane Safely\")\n",
    "    \n",
    "elif PlaneLanding <= 5000:\n",
    "    print(\"Come Down To 1000Ft\")\n",
    "    \n",
    "else:\n",
    "    print(\"Go Around and Try Later\")\n"
   ]
  },
  {
   "cell_type": "code",
   "execution_count": 3,
   "metadata": {},
   "outputs": [
    {
     "name": "stdout",
     "output_type": "stream",
     "text": [
      "Go Around and Try Later\n"
     ]
    }
   ],
   "source": [
    "PlaneLanding=8000\n",
    "\n",
    "if PlaneLanding < 1000:\n",
    "    print(\"Land the Plane Safely\")\n",
    "    \n",
    "elif PlaneLanding <= 5000:\n",
    "    print(\"Come Down To 1000Ft\")\n",
    "    \n",
    "else:\n",
    "    print(\"Go Around and Try Later\")\n"
   ]
  },
  {
   "cell_type": "markdown",
   "metadata": {},
   "source": [
    "# THANK YOU ! "
   ]
  },
  {
   "cell_type": "code",
   "execution_count": null,
   "metadata": {},
   "outputs": [],
   "source": []
  },
  {
   "cell_type": "markdown",
   "metadata": {},
   "source": [
    "# Assignment-2"
   ]
  },
  {
   "cell_type": "markdown",
   "metadata": {},
   "source": [
    "# Question !"
   ]
  },
  {
   "cell_type": "markdown",
   "metadata": {},
   "source": [
    "## Using for Loop please Print all the Prime Numbers between 1-200using For Loop And Range Function."
   ]
  },
  {
   "cell_type": "markdown",
   "metadata": {},
   "source": [
    "## Answer !"
   ]
  },
  {
   "cell_type": "code",
   "execution_count": 4,
   "metadata": {},
   "outputs": [
    {
     "name": "stdout",
     "output_type": "stream",
     "text": [
      "Prime numbers between 1 and 200 are:\n",
      "2\n",
      "3\n",
      "5\n",
      "7\n",
      "11\n",
      "13\n",
      "17\n",
      "19\n",
      "23\n",
      "29\n",
      "31\n",
      "37\n",
      "41\n",
      "43\n",
      "47\n",
      "53\n",
      "59\n",
      "61\n",
      "67\n",
      "71\n",
      "73\n",
      "79\n",
      "83\n",
      "89\n",
      "97\n",
      "101\n",
      "103\n",
      "107\n",
      "109\n",
      "113\n",
      "127\n",
      "131\n",
      "137\n",
      "139\n",
      "149\n",
      "151\n",
      "157\n",
      "163\n",
      "167\n",
      "173\n",
      "179\n",
      "181\n",
      "191\n",
      "193\n",
      "197\n",
      "199\n"
     ]
    }
   ],
   "source": [
    "lower = 1\n",
    "upper = 200\n",
    "\n",
    "print(\"Prime numbers between\", lower, \"and\", upper, \"are:\")\n",
    "\n",
    "for num in range(lower, upper + 1):\n",
    "   # all prime numbers are greater than 1\n",
    "   if num > 1:\n",
    "       for i in range(2, num):\n",
    "           if (num % i) == 0:\n",
    "               break\n",
    "       else:\n",
    "           print(num)"
   ]
  },
  {
   "cell_type": "markdown",
   "metadata": {},
   "source": [
    "# Thank You !"
   ]
  }
 ],
 "metadata": {
  "kernelspec": {
   "display_name": "Python 3",
   "language": "python",
   "name": "python3"
  },
  "language_info": {
   "codemirror_mode": {
    "name": "ipython",
    "version": 3
   },
   "file_extension": ".py",
   "mimetype": "text/x-python",
   "name": "python",
   "nbconvert_exporter": "python",
   "pygments_lexer": "ipython3",
   "version": "3.8.3"
  }
 },
 "nbformat": 4,
 "nbformat_minor": 4
}
